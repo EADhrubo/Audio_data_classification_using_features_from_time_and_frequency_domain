{
 "cells": [
  {
   "cell_type": "code",
   "execution_count": null,
   "id": "ce78dc27",
   "metadata": {},
   "outputs": [],
   "source": [
    "# importing necessary libraries\n",
    "import librosa\n",
    "import librosa.display\n",
    "import IPython.display as ipd\n",
    "import matplotlib.pyplot as plt\n",
    "import numpy as np\n",
    "import os\n",
    "from sklearn.model_selection import train_test_split\n",
    "from sklearn.svm import SVC\n",
    "from sklearn.metrics import accuracy_score\n",
    "from sklearn.ensemble import RandomForestClassifier\n",
    "from sklearn.metrics import confusion_matrix, ConfusionMatrixDisplay"
   ]
  },
  {
   "cell_type": "code",
   "execution_count": null,
   "id": "a25480fa",
   "metadata": {},
   "outputs": [],
   "source": [
    "# defining paths for 4 classes\n",
    "siren_path = '/Users/ehsanahmeddhrubo/Downloads/Renesas_challenge/siren'\n",
    "engine_idling_path = '/Users/ehsanahmeddhrubo/Downloads/Renesas_challenge/engine_idling'\n",
    "car_horn_path = '/Users/ehsanahmeddhrubo/Downloads/Renesas_challenge/car_horn'\n",
    "air_conditioner_path = '/Users/ehsanahmeddhrubo/Downloads/Renesas_challenge/air_conditioner'"
   ]
  },
  {
   "cell_type": "code",
   "execution_count": null,
   "id": "28370271",
   "metadata": {},
   "outputs": [],
   "source": [
    "# listing all the .wav files for 4 classes\n",
    "siren_dir_list = os.listdir(siren_path)\n",
    "engine_idling_dir_list = os.listdir(engine_idling_path)\n",
    "car_horn_dir_list = os.listdir(car_horn_path)\n",
    "air_conditioner_dir_list = os.listdir(air_conditioner_path)"
   ]
  },
  {
   "cell_type": "code",
   "execution_count": null,
   "id": "69707c95",
   "metadata": {},
   "outputs": [],
   "source": [
    "# picking one audio signal for 4 classes\n",
    "siren_file = siren_path + \"/\" + siren_dir_list[0]\n",
    "engine_idling_file = engine_idling_path + \"/\" + engine_idling_dir_list[0]\n",
    "car_horn_file = car_horn_path + \"/\" + car_horn_dir_list[5]\n",
    "air_conditioner_file = air_conditioner_path + \"/\" + air_conditioner_dir_list[0]"
   ]
  },
  {
   "cell_type": "code",
   "execution_count": null,
   "id": "15dc038b",
   "metadata": {},
   "outputs": [],
   "source": [
    "ipd.Audio(siren_file)"
   ]
  },
  {
   "cell_type": "code",
   "execution_count": null,
   "id": "1d43f113",
   "metadata": {},
   "outputs": [],
   "source": [
    "ipd.Audio(engine_idling_file)"
   ]
  },
  {
   "cell_type": "code",
   "execution_count": null,
   "id": "444f9216",
   "metadata": {},
   "outputs": [],
   "source": [
    "ipd.Audio(car_horn_file)"
   ]
  },
  {
   "cell_type": "code",
   "execution_count": null,
   "id": "5072d173",
   "metadata": {},
   "outputs": [],
   "source": [
    "ipd.Audio(air_conditioner_file)"
   ]
  },
  {
   "cell_type": "code",
   "execution_count": null,
   "id": "c16b07bc",
   "metadata": {},
   "outputs": [],
   "source": [
    "# loading the audio signals\n",
    "siren_signal, siren_sr = librosa.load(siren_file)\n",
    "engine_idling_signal, engine_idling_sr = librosa.load(engine_idling_file)\n",
    "car_horn_signal, car_horn_sr = librosa.load(car_horn_file)\n",
    "air_conditioner_signal, air_conditioner_sr = librosa.load(air_conditioner_file)"
   ]
  },
  {
   "cell_type": "code",
   "execution_count": null,
   "id": "9873cf19",
   "metadata": {},
   "outputs": [],
   "source": [
    "sr = siren_sr"
   ]
  },
  {
   "cell_type": "code",
   "execution_count": null,
   "id": "656fd0e7",
   "metadata": {},
   "outputs": [],
   "source": [
    "# duration in seconds of 1 sample\n",
    "sample_duration = 1 / sr\n",
    "print(f\"One sample lasts for {sample_duration:6f} seconds\")"
   ]
  },
  {
   "cell_type": "code",
   "execution_count": null,
   "id": "818e7edb",
   "metadata": {},
   "outputs": [],
   "source": [
    "# total number of samples in audio file\n",
    "tot_samples = len(siren_signal)\n",
    "tot_samples"
   ]
  },
  {
   "cell_type": "code",
   "execution_count": null,
   "id": "68967781",
   "metadata": {},
   "outputs": [],
   "source": [
    "# duration of siren audio in seconds\n",
    "duration = (1 / sr) * tot_samples\n",
    "print(f\"The audio lasts for {duration} seconds\")"
   ]
  },
  {
   "cell_type": "code",
   "execution_count": null,
   "id": "c35747d4",
   "metadata": {},
   "outputs": [],
   "source": [
    "# plotting waveforms of 4 classes\n",
    "\n",
    "plt.figure(figsize=(15, 17))\n",
    "\n",
    "plt.subplot(4, 1, 1)\n",
    "librosa.display.waveshow(siren_signal, alpha=0.5)\n",
    "plt.ylim((-0.6, 0.6))\n",
    "plt.title(\"Siren\")\n",
    "\n",
    "plt.subplot(4, 1, 2)\n",
    "librosa.display.waveshow(engine_idling_signal, alpha=0.5)\n",
    "plt.ylim((-0.6, 0.6))\n",
    "plt.title(\"Engine idling\")\n",
    "\n",
    "plt.subplot(4, 1, 3)\n",
    "librosa.display.waveshow(car_horn_signal, alpha=0.5)\n",
    "plt.ylim((-0.6, 0.6))\n",
    "plt.title(\"Car horn\")\n",
    "\n",
    "plt.subplot(4, 1, 4)\n",
    "librosa.display.waveshow(air_conditioner_signal, alpha=0.5)\n",
    "plt.ylim((-0.6, 0.6))\n",
    "plt.title(\"Air conditioner\")\n",
    "\n",
    "plt.show()"
   ]
  },
  {
   "cell_type": "code",
   "execution_count": null,
   "id": "65cd740a",
   "metadata": {},
   "outputs": [],
   "source": [
    "FRAME_SIZE = 1024\n",
    "HOP_LENGTH = 512"
   ]
  },
  {
   "cell_type": "code",
   "execution_count": null,
   "id": "081477c2",
   "metadata": {},
   "outputs": [],
   "source": [
    "# extracting short time fourier transform for 4 classes\n",
    "siren_s = librosa.stft(siren_signal, n_fft=FRAME_SIZE, hop_length=HOP_LENGTH)\n",
    "engine_idling_s = librosa.stft(engine_idling_signal, n_fft=FRAME_SIZE, hop_length=HOP_LENGTH)\n",
    "car_horn_s = librosa.stft(car_horn_signal, n_fft=FRAME_SIZE, hop_length=HOP_LENGTH)\n",
    "air_conditioner_s = librosa.stft(air_conditioner_signal, n_fft=FRAME_SIZE, hop_length=HOP_LENGTH)"
   ]
  },
  {
   "cell_type": "code",
   "execution_count": null,
   "id": "0a9189b0",
   "metadata": {},
   "outputs": [],
   "source": [
    "# calculating spectrogram for 4 classes\n",
    "siren_y = np.abs(siren_s) ** 2\n",
    "engine_idling_y = np.abs(engine_idling_s) ** 2\n",
    "car_horn_y = np.abs(car_horn_s) ** 2\n",
    "air_conditioner_y = np.abs(air_conditioner_s) ** 2"
   ]
  },
  {
   "cell_type": "code",
   "execution_count": null,
   "id": "43f28095",
   "metadata": {},
   "outputs": [],
   "source": [
    "# calculating log spectrogram for 4 classes\n",
    "siren_y_log_scale = librosa.power_to_db(siren_y)\n",
    "engine_idling_y_log_scale = librosa.power_to_db(engine_idling_y)\n",
    "car_horn_y_log_scale = librosa.power_to_db(car_horn_y)\n",
    "air_conditioner_y_log_scale = librosa.power_to_db(air_conditioner_y)"
   ]
  },
  {
   "cell_type": "code",
   "execution_count": null,
   "id": "96a4b082",
   "metadata": {},
   "outputs": [],
   "source": [
    "def plot_spectrogram(Y, sr, hop_length, y_axis=\"linear\"):\n",
    "    plt.figure(figsize=(25, 10))\n",
    "    librosa.display.specshow(Y, \n",
    "                             sr=sr, \n",
    "                             hop_length=hop_length, \n",
    "                             x_axis=\"time\", \n",
    "                             y_axis=y_axis)\n",
    "    plt.colorbar(format=\"%+2.f\")"
   ]
  },
  {
   "cell_type": "code",
   "execution_count": null,
   "id": "a5f951aa",
   "metadata": {},
   "outputs": [],
   "source": [
    "# plotting log amplitude spectrogram for 4 classes \n",
    "plot_spectrogram(siren_y_log_scale, sr, HOP_LENGTH)\n",
    "plot_spectrogram(engine_idling_y_log_scale, sr, HOP_LENGTH)\n",
    "plot_spectrogram(car_horn_y_log_scale, sr, HOP_LENGTH)\n",
    "plot_spectrogram(air_conditioner_y_log_scale, sr, HOP_LENGTH)"
   ]
  },
  {
   "cell_type": "code",
   "execution_count": null,
   "id": "4f6574b6",
   "metadata": {},
   "outputs": [],
   "source": [
    "# plotting log frequency spectrogram for 4 classes \n",
    "plot_spectrogram(siren_y_log_scale, sr, HOP_LENGTH, y_axis=\"log\")\n",
    "plot_spectrogram(engine_idling_y_log_scale, sr, HOP_LENGTH, y_axis=\"log\")\n",
    "plot_spectrogram(car_horn_y_log_scale, sr, HOP_LENGTH, y_axis=\"log\")\n",
    "plot_spectrogram(air_conditioner_y_log_scale, sr, HOP_LENGTH, y_axis=\"log\")"
   ]
  },
  {
   "cell_type": "code",
   "execution_count": null,
   "id": "f6217953",
   "metadata": {},
   "outputs": [],
   "source": [
    "# Example function to pad audio signals to a fixed length\n",
    "def pad_audio(audio_signal, target_length):\n",
    "    current_length = len(audio_signal)\n",
    "    if current_length < target_length:\n",
    "        padding = target_length - current_length\n",
    "        padded_signal = np.pad(audio_signal, (0, padding), mode='constant')\n",
    "    else:\n",
    "        padded_signal = audio_signal[:target_length]  # Trim if longer\n",
    "    return padded_signal\n"
   ]
  },
  {
   "cell_type": "code",
   "execution_count": null,
   "id": "5acf9dfb",
   "metadata": {},
   "outputs": [],
   "source": [
    "# loading all the siren signals\n",
    "siren_signal = np.zeros((40,88200))\n",
    "siren_sr = np.zeros((40,1))\n",
    "dir_list = os.listdir(siren_path)\n",
    "for i in range(40):\n",
    "    siren_file = siren_path + \"/\" + dir_list[i]\n",
    "    temp_signal, temp_sr = librosa.load(siren_file)\n",
    "    padded_signal = pad_audio(temp_signal, 88200)\n",
    "    siren_signal[i,:] = padded_signal\n",
    "    siren_sr[i,:] = temp_sr"
   ]
  },
  {
   "cell_type": "code",
   "execution_count": null,
   "id": "758e2d8b",
   "metadata": {},
   "outputs": [],
   "source": [
    "# loading all the engine idling signals\n",
    "engine_idling_signal = np.zeros((40,88200))\n",
    "engine_idling_sr = np.zeros((40,1))\n",
    "dir_list = os.listdir(engine_idling_path)\n",
    "for i in range(40):\n",
    "    engine_idling_file = engine_idling_path + \"/\" + dir_list[i]\n",
    "    temp_signal, temp_sr = librosa.load(engine_idling_file)\n",
    "    padded_signal = pad_audio(temp_signal, 88200)\n",
    "    engine_idling_signal[i,:] = padded_signal\n",
    "    engine_idling_sr[i,:] = temp_sr\n"
   ]
  },
  {
   "cell_type": "code",
   "execution_count": null,
   "id": "c16dce4b",
   "metadata": {},
   "outputs": [],
   "source": [
    "# loading all the car horn signals\n",
    "car_horn_signal = np.zeros((40,88200))\n",
    "car_horn_sr = np.zeros((40,1))\n",
    "dir_list = os.listdir(car_horn_path)\n",
    "for i in range(40):\n",
    "    car_horn_file = car_horn_path + \"/\" + dir_list[i]\n",
    "    temp_signal, temp_sr = librosa.load(car_horn_file)\n",
    "    padded_signal = pad_audio(temp_signal, 88200)\n",
    "    car_horn_signal[i,:] = padded_signal\n",
    "    car_horn_sr[i,:] = temp_sr"
   ]
  },
  {
   "cell_type": "code",
   "execution_count": null,
   "id": "4df39005",
   "metadata": {},
   "outputs": [],
   "source": [
    "# loading all the air conditioner signals\n",
    "air_conditioner_signal = np.zeros((40,88200))\n",
    "air_conditioner_sr = np.zeros((40,1))\n",
    "dir_list = os.listdir(air_conditioner_path)\n",
    "for i in range(40):\n",
    "    air_conditioner_file = air_conditioner_path + \"/\" + dir_list[i]\n",
    "    temp_signal, temp_sr = librosa.load(air_conditioner_file)\n",
    "    padded_signal = pad_audio(temp_signal, 88200)\n",
    "    air_conditioner_signal[i,:] = padded_signal\n",
    "    air_conditioner_sr[i,:] = temp_sr"
   ]
  },
  {
   "cell_type": "code",
   "execution_count": null,
   "id": "f1abeded",
   "metadata": {},
   "outputs": [],
   "source": [
    "# calculating mfcc for all the siren signals\n",
    "siren_mfccs = np.zeros((40,13,173))\n",
    "for i in range(40):\n",
    "    siren_mfccs[i,:,:] = librosa.feature.mfcc(y=siren_signal[i,:], n_mfcc=13, sr=siren_sr[i])"
   ]
  },
  {
   "cell_type": "code",
   "execution_count": null,
   "id": "51020b34",
   "metadata": {},
   "outputs": [],
   "source": [
    "# calculating mfcc for all the engine idling signals\n",
    "engine_idling_mfccs = np.zeros((40,13,173))\n",
    "for i in range(40):\n",
    "    engine_idling_mfccs[i,:,:] = librosa.feature.mfcc(y=engine_idling_signal[i,:], n_mfcc=13, sr=engine_idling_sr[i])"
   ]
  },
  {
   "cell_type": "code",
   "execution_count": null,
   "id": "a38091d0",
   "metadata": {},
   "outputs": [],
   "source": [
    "# calculating mfcc for all the car horn signals\n",
    "car_horn_mfccs = np.zeros((40,13,173))\n",
    "for i in range(40):\n",
    "    car_horn_mfccs[i,:,:] = librosa.feature.mfcc(y=car_horn_signal[i,:], n_mfcc=13, sr=car_horn_sr[i])"
   ]
  },
  {
   "cell_type": "code",
   "execution_count": null,
   "id": "b1f107e5",
   "metadata": {},
   "outputs": [],
   "source": [
    "# calculating mfcc for all the air conditioner signals\n",
    "air_conditioner_mfccs = np.zeros((40,13,173))\n",
    "for i in range(40):\n",
    "    air_conditioner_mfccs[i,:,:] = librosa.feature.mfcc(y=air_conditioner_signal[i,:], n_mfcc=13, sr=air_conditioner_sr[i])"
   ]
  },
  {
   "cell_type": "code",
   "execution_count": null,
   "id": "9467f040",
   "metadata": {},
   "outputs": [],
   "source": [
    "# calculating 1st derivative mfcc for all the siren signals\n",
    "siren_delta_mfccs = np.zeros((40,13,173))\n",
    "for i in range(40):\n",
    "    siren_delta_mfccs[i,:,:] = librosa.feature.delta(siren_mfccs[i,:,:])"
   ]
  },
  {
   "cell_type": "code",
   "execution_count": null,
   "id": "c1b2022f",
   "metadata": {},
   "outputs": [],
   "source": [
    "# calculating 1st derivative mfcc for all the engine idling signals\n",
    "engine_idling_delta_mfccs = np.zeros((40,13,173))\n",
    "for i in range(40):\n",
    "    engine_idling_delta_mfccs[i,:,:] = librosa.feature.delta(engine_idling_mfccs[i,:,:])"
   ]
  },
  {
   "cell_type": "code",
   "execution_count": null,
   "id": "8be8f506",
   "metadata": {},
   "outputs": [],
   "source": [
    "# calculating 1st derivative mfcc for all the car horn signals\n",
    "car_horn_delta_mfccs = np.zeros((40,13,173))\n",
    "for i in range(40):\n",
    "    car_horn_delta_mfccs[i,:,:] = librosa.feature.delta(car_horn_mfccs[i,:,:])"
   ]
  },
  {
   "cell_type": "code",
   "execution_count": null,
   "id": "633babad",
   "metadata": {},
   "outputs": [],
   "source": [
    "# calculating 1st derivative mfcc for all the air conditioner signals\n",
    "air_conditioner_delta_mfccs = np.zeros((40,13,173))\n",
    "for i in range(40):\n",
    "    air_conditioner_delta_mfccs[i,:,:] = librosa.feature.delta(air_conditioner_mfccs[i,:,:])"
   ]
  },
  {
   "cell_type": "code",
   "execution_count": null,
   "id": "c4202537",
   "metadata": {},
   "outputs": [],
   "source": [
    "# calculating 2nd derivative mfcc for all the siren signals\n",
    "siren_delta2_mfccs = np.zeros((40,13,173))\n",
    "for i in range(40):\n",
    "    siren_delta2_mfccs[i,:,:] = librosa.feature.delta(siren_mfccs[i,:,:], order=2)"
   ]
  },
  {
   "cell_type": "code",
   "execution_count": null,
   "id": "fb050ef0",
   "metadata": {},
   "outputs": [],
   "source": [
    "# calculating 2nd derivative mfcc for all the engine idling signals\n",
    "engine_idling_delta2_mfccs = np.zeros((40,13,173))\n",
    "for i in range(40):\n",
    "    engine_idling_delta2_mfccs[i,:,:] = librosa.feature.delta(engine_idling_mfccs[i,:,:], order=2)"
   ]
  },
  {
   "cell_type": "code",
   "execution_count": null,
   "id": "27dde1d6",
   "metadata": {},
   "outputs": [],
   "source": [
    "# calculating 2nd derivative mfcc for all the car horn signals\n",
    "car_horn_delta2_mfccs = np.zeros((40,13,173))\n",
    "for i in range(40):\n",
    "    car_horn_delta2_mfccs[i,:,:] = librosa.feature.delta(car_horn_mfccs[i,:,:], order=2)"
   ]
  },
  {
   "cell_type": "code",
   "execution_count": null,
   "id": "0b3a08ef",
   "metadata": {},
   "outputs": [],
   "source": [
    "# calculating 2nd derivative mfcc for all the air conditioner signals\n",
    "air_conditioner_delta2_mfccs = np.zeros((40,13,173))\n",
    "for i in range(40):\n",
    "    air_conditioner_delta2_mfccs[i,:,:] = librosa.feature.delta(air_conditioner_mfccs[i,:,:], order=2)"
   ]
  },
  {
   "cell_type": "code",
   "execution_count": null,
   "id": "17ae9d8a",
   "metadata": {},
   "outputs": [],
   "source": [
    "siren_mfccs.shape"
   ]
  },
  {
   "cell_type": "code",
   "execution_count": null,
   "id": "28831f11",
   "metadata": {},
   "outputs": [],
   "source": [
    "FRAME_SIZE = 1024\n",
    "HOP_LENGTH = 512"
   ]
  },
  {
   "cell_type": "code",
   "execution_count": null,
   "id": "1a86a10e",
   "metadata": {},
   "outputs": [],
   "source": [
    "# calculating spectral centroid for all the siren signals\n",
    "siren_sc = np.zeros((40,173))\n",
    "for i in range(40):\n",
    "    siren_sc[i,:] = librosa.feature.spectral_centroid(y=siren_signal[i,:], sr=siren_sr[i], n_fft=FRAME_SIZE, hop_length=HOP_LENGTH)[0]"
   ]
  },
  {
   "cell_type": "code",
   "execution_count": null,
   "id": "4666d304",
   "metadata": {},
   "outputs": [],
   "source": [
    "# calculating spectral centroid for all the engine idling signals\n",
    "engine_idling_sc = np.zeros((40,173))\n",
    "for i in range(40):\n",
    "    engine_idling_sc[i,:] = librosa.feature.spectral_centroid(y=engine_idling_signal[i,:], sr=engine_idling_sr[i], n_fft=FRAME_SIZE, hop_length=HOP_LENGTH)[0]"
   ]
  },
  {
   "cell_type": "code",
   "execution_count": null,
   "id": "8257f282",
   "metadata": {},
   "outputs": [],
   "source": [
    "# calculating spectral centroid for all the car horn signals\n",
    "car_horn_sc = np.zeros((40,173))\n",
    "for i in range(40):\n",
    "    car_horn_sc[i,:] = librosa.feature.spectral_centroid(y=car_horn_signal[i,:], sr=car_horn_sr[i], n_fft=FRAME_SIZE, hop_length=HOP_LENGTH)[0]"
   ]
  },
  {
   "cell_type": "code",
   "execution_count": null,
   "id": "7a659dab",
   "metadata": {},
   "outputs": [],
   "source": [
    "# calculating spectral centroid for all the air conditioner signals\n",
    "air_conditioner_sc = np.zeros((40,173))\n",
    "for i in range(40):\n",
    "    air_conditioner_sc[i,:] = librosa.feature.spectral_centroid(y=air_conditioner_signal[i,:], sr=air_conditioner_sr[i], n_fft=FRAME_SIZE, hop_length=HOP_LENGTH)[0]"
   ]
  },
  {
   "cell_type": "code",
   "execution_count": null,
   "id": "7ae765a6",
   "metadata": {},
   "outputs": [],
   "source": [
    "# calculating bandwidth for all the siren signals\n",
    "siren_bw = np.zeros((40,173))\n",
    "for i in range(40):\n",
    "    siren_bw[i,:] = librosa.feature.spectral_bandwidth(y=siren_signal[i,:], sr=siren_sr[i], n_fft=FRAME_SIZE, hop_length=HOP_LENGTH)[0]"
   ]
  },
  {
   "cell_type": "code",
   "execution_count": null,
   "id": "b428ebd8",
   "metadata": {},
   "outputs": [],
   "source": [
    "# calculating bandwidth for all the engine idling signals\n",
    "engine_idling_bw = np.zeros((40,173))\n",
    "for i in range(40):\n",
    "    engine_idling_bw[i,:] = librosa.feature.spectral_bandwidth(y=engine_idling_signal[i,:], sr=engine_idling_sr[i], n_fft=FRAME_SIZE, hop_length=HOP_LENGTH)[0]"
   ]
  },
  {
   "cell_type": "code",
   "execution_count": null,
   "id": "b8013012",
   "metadata": {},
   "outputs": [],
   "source": [
    "# calculating bandwidth for all the car horn signals\n",
    "car_horn_bw = np.zeros((40,173))\n",
    "for i in range(40):\n",
    "    car_horn_bw[i,:] = librosa.feature.spectral_bandwidth(y=car_horn_signal[i,:], sr=car_horn_sr[i], n_fft=FRAME_SIZE, hop_length=HOP_LENGTH)[0]"
   ]
  },
  {
   "cell_type": "code",
   "execution_count": null,
   "id": "ceef4b85",
   "metadata": {},
   "outputs": [],
   "source": [
    "# calculating bandwidth for all the air conditioner signals\n",
    "air_conditioner_bw = np.zeros((40,173))\n",
    "for i in range(40):\n",
    "    air_conditioner_bw[i,:] = librosa.feature.spectral_bandwidth(y=air_conditioner_signal[i,:], sr=air_conditioner_sr[i], n_fft=FRAME_SIZE, hop_length=HOP_LENGTH)[0]"
   ]
  },
  {
   "cell_type": "code",
   "execution_count": null,
   "id": "5bc7d149",
   "metadata": {},
   "outputs": [],
   "source": [
    "def amplitude_envelope(signal, frame_size, hop_length):\n",
    "    \"\"\"Calculate the amplitude envelope of a signal with a given frame size nad hop length.\"\"\"\n",
    "    amplitude_envelope = []\n",
    "    \n",
    "    # calculate amplitude envelope for each frame\n",
    "    for i in range(0, len(signal), hop_length): \n",
    "        amplitude_envelope_current_frame = max(signal[i:i+frame_size]) \n",
    "        amplitude_envelope.append(amplitude_envelope_current_frame)\n",
    "    \n",
    "    return np.array(amplitude_envelope) "
   ]
  },
  {
   "cell_type": "code",
   "execution_count": null,
   "id": "5ac9e4a4",
   "metadata": {},
   "outputs": [],
   "source": [
    "# calculating amplitude envelope for all the siren signals\n",
    "siren_ae = np.zeros((40,173))\n",
    "for i in range(40):\n",
    "    siren_ae[i,:] = amplitude_envelope(siren_signal[i,:], FRAME_SIZE, HOP_LENGTH)"
   ]
  },
  {
   "cell_type": "code",
   "execution_count": null,
   "id": "77230b78",
   "metadata": {},
   "outputs": [],
   "source": [
    "# calculating amplitude envelope for all the engine idling signals\n",
    "engine_idling_ae = np.zeros((40,173))\n",
    "for i in range(40):\n",
    "    engine_idling_ae[i,:] = amplitude_envelope(engine_idling_signal[i,:], FRAME_SIZE, HOP_LENGTH)"
   ]
  },
  {
   "cell_type": "code",
   "execution_count": null,
   "id": "00b10149",
   "metadata": {},
   "outputs": [],
   "source": [
    "# calculating amplitude envelope for all the car horn signals\n",
    "car_horn_ae = np.zeros((40,173))\n",
    "for i in range(40):\n",
    "    car_horn_ae[i,:] = amplitude_envelope(car_horn_signal[i,:], FRAME_SIZE, HOP_LENGTH)"
   ]
  },
  {
   "cell_type": "code",
   "execution_count": null,
   "id": "54bb8649",
   "metadata": {},
   "outputs": [],
   "source": [
    "# calculating amplitude envelope for all the air conditioner signals\n",
    "air_conditioner_ae = np.zeros((40,173))\n",
    "for i in range(40):\n",
    "    air_conditioner_ae[i,:] = amplitude_envelope(air_conditioner_signal[i,:], FRAME_SIZE, HOP_LENGTH)"
   ]
  },
  {
   "cell_type": "code",
   "execution_count": null,
   "id": "271f2dfb",
   "metadata": {},
   "outputs": [],
   "source": [
    "def rmse(signal, frame_size, hop_length):\n",
    "    rmse = []\n",
    "    \n",
    "    # calculate rmse for each frame\n",
    "    for i in range(0, len(signal), hop_length): \n",
    "        rmse_current_frame = np.sqrt(sum(signal[i:i+frame_size]**2) / frame_size)\n",
    "        rmse.append(rmse_current_frame)\n",
    "    return np.array(rmse)"
   ]
  },
  {
   "cell_type": "code",
   "execution_count": null,
   "id": "3306d501",
   "metadata": {},
   "outputs": [],
   "source": [
    "# calculating root mean square energy for all the siren signals\n",
    "siren_rms = np.zeros((40,173))\n",
    "for i in range(40):\n",
    "    siren_rms[i,:] = rmse(siren_signal[i,:], frame_size=FRAME_SIZE, hop_length=HOP_LENGTH)"
   ]
  },
  {
   "cell_type": "code",
   "execution_count": null,
   "id": "29375e65",
   "metadata": {},
   "outputs": [],
   "source": [
    "# calculating root mean square energy for all the engine idling signals\n",
    "engine_idling_rms = np.zeros((40,173))\n",
    "for i in range(40):\n",
    "    engine_idling_rms[i,:] = rmse(engine_idling_signal[i,:], frame_size=FRAME_SIZE, hop_length=HOP_LENGTH)"
   ]
  },
  {
   "cell_type": "code",
   "execution_count": null,
   "id": "543ff1c6",
   "metadata": {},
   "outputs": [],
   "source": [
    "# calculating root mean square energy for all the car horn signals\n",
    "car_horn_rms = np.zeros((40,173))\n",
    "for i in range(40):\n",
    "    car_horn_rms[i,:] = rmse(car_horn_signal[i,:], frame_size=FRAME_SIZE, hop_length=HOP_LENGTH)"
   ]
  },
  {
   "cell_type": "code",
   "execution_count": null,
   "id": "30a021a1",
   "metadata": {},
   "outputs": [],
   "source": [
    "# calculating root mean square energy for all the air conditioner signals\n",
    "air_conditioner_rms = np.zeros((40,173))\n",
    "for i in range(40):\n",
    "    air_conditioner_rms[i,:] = rmse(air_conditioner_signal[i,:], frame_size=FRAME_SIZE, hop_length=HOP_LENGTH)"
   ]
  },
  {
   "cell_type": "code",
   "execution_count": null,
   "id": "bdd5489e",
   "metadata": {},
   "outputs": [],
   "source": [
    "# calculating zero crossing rate for all the siren signals\n",
    "siren_zcr = np.zeros((40,173))\n",
    "for i in range(40):\n",
    "    siren_zcr[i,:] = librosa.feature.zero_crossing_rate(siren_signal[i,:], frame_length=FRAME_SIZE, hop_length=HOP_LENGTH)[0]"
   ]
  },
  {
   "cell_type": "code",
   "execution_count": null,
   "id": "a72b7043",
   "metadata": {},
   "outputs": [],
   "source": [
    "# calculating zero crossing rate for all the engine idling signals\n",
    "engine_idling_zcr = np.zeros((40,173))\n",
    "for i in range(40):\n",
    "    engine_idling_zcr[i,:] = librosa.feature.zero_crossing_rate(engine_idling_signal[i,:], frame_length=FRAME_SIZE, hop_length=HOP_LENGTH)[0]"
   ]
  },
  {
   "cell_type": "code",
   "execution_count": null,
   "id": "82f9d084",
   "metadata": {},
   "outputs": [],
   "source": [
    "# calculating zero crossing rate for all the car horn signals\n",
    "car_horn_zcr = np.zeros((40,173))\n",
    "for i in range(40):\n",
    "    car_horn_zcr[i,:] = librosa.feature.zero_crossing_rate(car_horn_signal[i,:], frame_length=FRAME_SIZE, hop_length=HOP_LENGTH)[0]"
   ]
  },
  {
   "cell_type": "code",
   "execution_count": null,
   "id": "01e5e121",
   "metadata": {},
   "outputs": [],
   "source": [
    "# calculating zero crossing rate for all the air conditioner signals\n",
    "air_conditioner_zcr = np.zeros((40,173))\n",
    "for i in range(40):\n",
    "    air_conditioner_zcr[i,:] = librosa.feature.zero_crossing_rate(air_conditioner_signal[i,:], frame_length=FRAME_SIZE, hop_length=HOP_LENGTH)[0]"
   ]
  },
  {
   "cell_type": "code",
   "execution_count": null,
   "id": "6967d091",
   "metadata": {},
   "outputs": [],
   "source": [
    "# combining features for 4 classes\n",
    "combined_mfccs = np.concatenate((siren_mfccs, engine_idling_mfccs, car_horn_mfccs, air_conditioner_mfccs))"
   ]
  },
  {
   "cell_type": "code",
   "execution_count": null,
   "id": "89b82e5d",
   "metadata": {},
   "outputs": [],
   "source": [
    "combined_mfccs.shape"
   ]
  },
  {
   "cell_type": "code",
   "execution_count": null,
   "id": "67c9e383",
   "metadata": {},
   "outputs": [],
   "source": [
    "combined_mfccs_2d = np.reshape(combined_mfccs, (combined_mfccs.shape[0], -1))"
   ]
  },
  {
   "cell_type": "code",
   "execution_count": null,
   "id": "961767a1",
   "metadata": {},
   "outputs": [],
   "source": [
    "combined_mfccs_2d.shape"
   ]
  },
  {
   "cell_type": "code",
   "execution_count": null,
   "id": "1c971ec0",
   "metadata": {},
   "outputs": [],
   "source": [
    "# creating true labels\n",
    "numbers = np.array([0, 1, 2, 3])\n",
    "true_labels = np.repeat(numbers, 40)"
   ]
  },
  {
   "cell_type": "code",
   "execution_count": null,
   "id": "23eb5c55",
   "metadata": {},
   "outputs": [],
   "source": [
    "true_labels.shape"
   ]
  },
  {
   "cell_type": "code",
   "execution_count": null,
   "id": "9fe48853",
   "metadata": {},
   "outputs": [],
   "source": [
    "# creating training and testing set using the random split\n",
    "X_train, X_test, y_train, y_test = train_test_split(combined_mfccs_2d, true_labels, test_size=0.2, random_state=42)"
   ]
  },
  {
   "cell_type": "code",
   "execution_count": null,
   "id": "bdb02491",
   "metadata": {},
   "outputs": [],
   "source": [
    "X_test.shape"
   ]
  },
  {
   "cell_type": "code",
   "execution_count": null,
   "id": "cb1fa7ed",
   "metadata": {},
   "outputs": [],
   "source": [
    "y_test"
   ]
  },
  {
   "cell_type": "code",
   "execution_count": null,
   "id": "849a1068",
   "metadata": {},
   "outputs": [],
   "source": [
    "# training with svm classifier\n",
    "svm_classifier = SVC(kernel='linear', C=1.0)\n",
    "svm_classifier.fit(X_train, y_train)\n",
    "\n",
    "# performing prediction on the test set\n",
    "y_pred_svm = svm_classifier.predict(X_test)"
   ]
  },
  {
   "cell_type": "code",
   "execution_count": null,
   "id": "df8230f8",
   "metadata": {},
   "outputs": [],
   "source": [
    "# creating a RF classifier\n",
    "clf = RandomForestClassifier(n_estimators = 100)  \n",
    "\n",
    "clf.fit(X_train, y_train)\n",
    " \n",
    "# performing predictions on the test dataset\n",
    "y_pred_rf = clf.predict(X_test)"
   ]
  },
  {
   "cell_type": "code",
   "execution_count": null,
   "id": "38ed87c0",
   "metadata": {},
   "outputs": [],
   "source": [
    "# measuring accuracy for svm\n",
    "accuracy = accuracy_score(y_test, y_pred_svm)\n",
    "print(\"Accuracy:\", accuracy)"
   ]
  },
  {
   "cell_type": "code",
   "execution_count": null,
   "id": "9aa5aa17",
   "metadata": {},
   "outputs": [],
   "source": [
    "# measure accuracy for RF\n",
    "accuracy = accuracy_score(y_test, y_pred_rf)\n",
    "print(\"Accuracy:\", accuracy)"
   ]
  },
  {
   "cell_type": "code",
   "execution_count": null,
   "id": "87aefdef",
   "metadata": {},
   "outputs": [],
   "source": [
    "# confusion matrix for svm\n",
    "cm = confusion_matrix(y_test, y_pred_svm)\n",
    "ConfusionMatrixDisplay(cm).plot()"
   ]
  },
  {
   "cell_type": "code",
   "execution_count": null,
   "id": "d20986b3",
   "metadata": {},
   "outputs": [],
   "source": [
    "# confusion matrix for RF\n",
    "cm = confusion_matrix(y_test, y_pred_rf)\n",
    "ConfusionMatrixDisplay(cm).plot()"
   ]
  },
  {
   "cell_type": "code",
   "execution_count": null,
   "id": "af9e8df2",
   "metadata": {},
   "outputs": [],
   "source": []
  }
 ],
 "metadata": {
  "kernelspec": {
   "display_name": "Python 3 (ipykernel)",
   "language": "python",
   "name": "python3"
  },
  "language_info": {
   "codemirror_mode": {
    "name": "ipython",
    "version": 3
   },
   "file_extension": ".py",
   "mimetype": "text/x-python",
   "name": "python",
   "nbconvert_exporter": "python",
   "pygments_lexer": "ipython3",
   "version": "3.9.12"
  }
 },
 "nbformat": 4,
 "nbformat_minor": 5
}
